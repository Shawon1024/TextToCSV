# Importing necessary library
import pandas as pd

# The sep parameter specifies the delimeter to use (e.g., '\t' for tabs)
df = pd.read_csv('Data.txt', sep = ',', header = None)

# If the file doesn't include header, we can specify the here (optional)
df.columns = ['Time Stamp', 'User', 'Ax', 'Ay', 'Ay', 'Gx', 'Gy', 'Gz', 'Activity']

# Exporting the csv file
df.to_csv('Data.csv', index = False) # index = False means do not write row numbers
